{
 "cells": [
  {
   "cell_type": "code",
   "execution_count": 1,
   "id": "d6146299",
   "metadata": {
    "ExecuteTime": {
     "end_time": "2023-02-06T15:38:36.631716Z",
     "start_time": "2023-02-06T15:38:33.789188Z"
    }
   },
   "outputs": [],
   "source": [
    "import pandas as pd\n",
    "import numpy as np\n",
    "from scipy import stats\n",
    "import seaborn as sns\n",
    "import matplotlib.pyplot as plt"
   ]
  },
  {
   "cell_type": "code",
   "execution_count": 2,
   "id": "abb408db",
   "metadata": {
    "ExecuteTime": {
     "end_time": "2023-02-06T15:38:36.647449Z",
     "start_time": "2023-02-06T15:38:36.636413Z"
    }
   },
   "outputs": [],
   "source": [
    "# Assignment 2.1  Q.1"
   ]
  },
  {
   "cell_type": "code",
   "execution_count": 3,
   "id": "d3ff8178",
   "metadata": {
    "ExecuteTime": {
     "end_time": "2023-02-06T15:38:36.666295Z",
     "start_time": "2023-02-06T15:38:36.650824Z"
    }
   },
   "outputs": [],
   "source": [
    "measure_x = pd.Series([24.23,25.53,25.41,24.14,29.62,28.25,25.81,24.39,40.26,32.95,91.36,25.99,39.42,26.71,35.00])\n",
    "company_name = ['Allied Signal','Bankers Trust','General Mills','ITT Industries','J.P.Morgan & Co.','Lehman Brothers','Marriott',\n",
    "                'MCI','Merrill Lynch','Microsoft','Morgan Stanley','Sun Microsystems','Travelers','US Airways','Warner-Lambert']"
   ]
  },
  {
   "cell_type": "code",
   "execution_count": 4,
   "id": "42be18ab",
   "metadata": {
    "ExecuteTime": {
     "end_time": "2023-02-06T15:38:36.695107Z",
     "start_time": "2023-02-06T15:38:36.673157Z"
    }
   },
   "outputs": [
    {
     "data": {
      "text/plain": [
       "0     24.23\n",
       "1     25.53\n",
       "2     25.41\n",
       "3     24.14\n",
       "4     29.62\n",
       "5     28.25\n",
       "6     25.81\n",
       "7     24.39\n",
       "8     40.26\n",
       "9     32.95\n",
       "10    91.36\n",
       "11    25.99\n",
       "12    39.42\n",
       "13    26.71\n",
       "14    35.00\n",
       "dtype: float64"
      ]
     },
     "execution_count": 4,
     "metadata": {},
     "output_type": "execute_result"
    }
   ],
   "source": [
    "measure_x"
   ]
  },
  {
   "cell_type": "code",
   "execution_count": 5,
   "id": "aef07552",
   "metadata": {
    "ExecuteTime": {
     "end_time": "2023-02-06T15:38:36.718296Z",
     "start_time": "2023-02-06T15:38:36.697969Z"
    }
   },
   "outputs": [
    {
     "data": {
      "text/plain": [
       "['Allied Signal',\n",
       " 'Bankers Trust',\n",
       " 'General Mills',\n",
       " 'ITT Industries',\n",
       " 'J.P.Morgan & Co.',\n",
       " 'Lehman Brothers',\n",
       " 'Marriott',\n",
       " 'MCI',\n",
       " 'Merrill Lynch',\n",
       " 'Microsoft',\n",
       " 'Morgan Stanley',\n",
       " 'Sun Microsystems',\n",
       " 'Travelers',\n",
       " 'US Airways',\n",
       " 'Warner-Lambert']"
      ]
     },
     "execution_count": 5,
     "metadata": {},
     "output_type": "execute_result"
    }
   ],
   "source": [
    "company_name"
   ]
  },
  {
   "cell_type": "code",
   "execution_count": 6,
   "id": "5facfdf7",
   "metadata": {
    "ExecuteTime": {
     "end_time": "2023-02-06T15:38:36.938011Z",
     "start_time": "2023-02-06T15:38:36.721581Z"
    }
   },
   "outputs": [
    {
     "name": "stderr",
     "output_type": "stream",
     "text": [
      "C:\\Users\\Vaishu\\anaconda3\\lib\\site-packages\\seaborn\\_decorators.py:36: FutureWarning: Pass the following variable as a keyword arg: x. From version 0.12, the only valid positional argument will be `data`, and passing other arguments without an explicit keyword will result in an error or misinterpretation.\n",
      "  warnings.warn(\n"
     ]
    },
    {
     "data": {
      "text/plain": [
       "Text(0.5, 1.0, 'boxplot')"
      ]
     },
     "execution_count": 6,
     "metadata": {},
     "output_type": "execute_result"
    },
    {
     "data": {
      "image/png": "[encoded data removed]",
      "text/plain": [
       "<Figure size 432x288 with 1 Axes>"
      ]
     },
     "metadata": {
      "needs_background": "light"
     },
     "output_type": "display_data"
    }
   ],
   "source": [
    "sns.boxplot(measure_x)\n",
    "plt.title(\"boxplot\")"
   ]
  },
  {
   "cell_type": "code",
   "execution_count": 7,
   "id": "9a522b9a",
   "metadata": {
    "ExecuteTime": {
     "end_time": "2023-02-06T15:38:36.951702Z",
     "start_time": "2023-02-06T15:38:36.940619Z"
    }
   },
   "outputs": [
    {
     "data": {
      "text/plain": [
       "33.27133333333333"
      ]
     },
     "execution_count": 7,
     "metadata": {},
     "output_type": "execute_result"
    }
   ],
   "source": [
    "measure_x.mean()"
   ]
  },
  {
   "cell_type": "code",
   "execution_count": 8,
   "id": "6131efa2",
   "metadata": {
    "ExecuteTime": {
     "end_time": "2023-02-06T15:38:36.971091Z",
     "start_time": "2023-02-06T15:38:36.954742Z"
    }
   },
   "outputs": [
    {
     "data": {
      "text/plain": [
       "16.945400921222028"
      ]
     },
     "execution_count": 8,
     "metadata": {},
     "output_type": "execute_result"
    }
   ],
   "source": [
    "measure_x.std()"
   ]
  },
  {
   "cell_type": "code",
   "execution_count": 9,
   "id": "2332eeee",
   "metadata": {
    "ExecuteTime": {
     "end_time": "2023-02-06T15:38:36.983865Z",
     "start_time": "2023-02-06T15:38:36.973591Z"
    }
   },
   "outputs": [
    {
     "data": {
      "text/plain": [
       "287.1466123809524"
      ]
     },
     "execution_count": 9,
     "metadata": {},
     "output_type": "execute_result"
    }
   ],
   "source": [
    "measure_x.var()"
   ]
  },
  {
   "cell_type": "code",
   "execution_count": 10,
   "id": "3cdef7c9",
   "metadata": {
    "ExecuteTime": {
     "end_time": "2023-02-06T15:38:37.006942Z",
     "start_time": "2023-02-06T15:38:36.988317Z"
    }
   },
   "outputs": [],
   "source": [
    "# Assingment 2.2  Q.5"
   ]
  },
  {
   "cell_type": "code",
   "execution_count": 11,
   "id": "fafe7c89",
   "metadata": {
    "ExecuteTime": {
     "end_time": "2023-02-06T15:38:37.020234Z",
     "start_time": "2023-02-06T15:38:37.010374Z"
    }
   },
   "outputs": [
    {
     "name": "stdout",
     "output_type": "stream",
     "text": [
      "total mean profit is Rs 540 millions\n"
     ]
    }
   ],
   "source": [
    "# mean profits from different divisions of company = mean1 + mean2\n",
    "total_mean = 5 + 7\n",
    "print(\"total mean profit is Rs\",total_mean*45,\"millions\")"
   ]
  },
  {
   "cell_type": "code",
   "execution_count": 12,
   "id": "23c2e7f2",
   "metadata": {
    "ExecuteTime": {
     "end_time": "2023-02-06T15:38:37.034106Z",
     "start_time": "2023-02-06T15:38:37.023378Z"
    }
   },
   "outputs": [
    {
     "name": "stdout",
     "output_type": "stream",
     "text": [
      "Standard deviation is Rs 225.0 millions\n"
     ]
    }
   ],
   "source": [
    "# variance of profits from two different divisions of company = SD^2 = SD1^2 + SD2^2\n",
    "SD = np.sqrt((9)+(16))\n",
    "print('Standard deviation is Rs',SD*45,'millions')"
   ]
  },
  {
   "cell_type": "code",
   "execution_count": 13,
   "id": "488511f9",
   "metadata": {
    "ExecuteTime": {
     "end_time": "2023-02-06T15:38:37.054114Z",
     "start_time": "2023-02-06T15:38:37.036195Z"
    }
   },
   "outputs": [
    {
     "name": "stdout",
     "output_type": "stream",
     "text": [
      "Range is Rs (99.00810347848784, 980.9918965215122) millions\n"
     ]
    }
   ],
   "source": [
    "## Q.5.A\n",
    "# specify a Rupee range (centered on the mean) such that it contains 95% probability\n",
    "print('Range is Rs',stats.norm.interval(0.95,540,225),'millions')"
   ]
  },
  {
   "cell_type": "code",
   "execution_count": 14,
   "id": "66ab530a",
   "metadata": {
    "ExecuteTime": {
     "end_time": "2023-02-06T15:38:37.069969Z",
     "start_time": "2023-02-06T15:38:37.055932Z"
    }
   },
   "outputs": [
    {
     "name": "stdout",
     "output_type": "stream",
     "text": [
      "5th percentile of profit (in million Rupees) is 202.0\n"
     ]
    }
   ],
   "source": [
    "#Q.5.B\n",
    "# specify the 5th percentile of profit (in Rupees) for the company\n",
    "# To compute 5th Percentile, we use the formula X = μ Zσ; where in from z table, 5 percentile = -1.645\n",
    "x = 540 + (-1.5)*(225)\n",
    "print('5th percentile of profit (in million Rupees) is',np.round(x,))"
   ]
  },
  {
   "cell_type": "code",
   "execution_count": 15,
   "id": "047fa16e",
   "metadata": {
    "ExecuteTime": {
     "end_time": "2023-02-06T15:38:37.083773Z",
     "start_time": "2023-02-06T15:38:37.072851Z"
    }
   },
   "outputs": [
    {
     "data": {
      "text/plain": [
       "0.040059156863817086"
      ]
     },
     "execution_count": 15,
     "metadata": {},
     "output_type": "execute_result"
    }
   ],
   "source": [
    "#Q.5.C\n",
    "## which of the two divisions has a larger probability of making a loss in a given year \n",
    "stats.norm.cdf(0,5,3)    ##Probability of Divisions 1 making a loss \n",
    "stats.norm.cdf(0,7,4)    ##probability of divisions 2 making a loss P(X<0)"
   ]
  },
  {
   "cell_type": "code",
   "execution_count": 16,
   "id": "f5ae9469",
   "metadata": {
    "ExecuteTime": {
     "end_time": "2023-02-06T15:38:37.093821Z",
     "start_time": "2023-02-06T15:38:37.086790Z"
    }
   },
   "outputs": [],
   "source": [
    "Probability_of_Divisions_1_making_a_loss = stats.norm.cdf(0,5,3)\n",
    "Probability_of_divisions_2_making_a_loss = stats.norm.cdf(0,7,4)"
   ]
  },
  {
   "cell_type": "code",
   "execution_count": 17,
   "id": "ec83674e",
   "metadata": {
    "ExecuteTime": {
     "end_time": "2023-02-06T15:38:37.107695Z",
     "start_time": "2023-02-06T15:38:37.096715Z"
    }
   },
   "outputs": [
    {
     "name": "stdout",
     "output_type": "stream",
     "text": [
      "0.0477903522728147 0.040059156863817086\n"
     ]
    }
   ],
   "source": [
    "print(Probability_of_Divisions_1_making_a_loss ,Probability_of_divisions_2_making_a_loss)"
   ]
  },
  {
   "cell_type": "code",
   "execution_count": 18,
   "id": "f5c08a50",
   "metadata": {
    "ExecuteTime": {
     "end_time": "2023-02-06T15:38:37.115264Z",
     "start_time": "2023-02-06T15:38:37.110490Z"
    }
   },
   "outputs": [],
   "source": [
    "## Assignment 2.4    Q...3\n",
    "## given data in question   population mean = 50 , std = 40, sample size = 100\n",
    "##  standard error = std/sqrt(sample size)\n",
    "#                  = 40/10 = 4"
   ]
  },
  {
   "cell_type": "code",
   "execution_count": 19,
   "id": "16715385",
   "metadata": {
    "ExecuteTime": {
     "end_time": "2023-02-06T15:38:37.123702Z",
     "start_time": "2023-02-06T15:38:37.116298Z"
    }
   },
   "outputs": [],
   "source": [
    "a1 = stats.norm.cdf(55,loc = 50,scale = 4)"
   ]
  },
  {
   "cell_type": "code",
   "execution_count": 20,
   "id": "7ce95bcf",
   "metadata": {
    "ExecuteTime": {
     "end_time": "2023-02-06T15:38:37.139271Z",
     "start_time": "2023-02-06T15:38:37.124396Z"
    }
   },
   "outputs": [],
   "source": [
    "a2 = stats.norm.cdf(45,loc = 50,scale = 4)"
   ]
  },
  {
   "cell_type": "code",
   "execution_count": 21,
   "id": "b0a788dd",
   "metadata": {
    "ExecuteTime": {
     "end_time": "2023-02-06T15:38:37.153899Z",
     "start_time": "2023-02-06T15:38:37.142221Z"
    }
   },
   "outputs": [],
   "source": [
    "a3 = a1 - a2"
   ]
  },
  {
   "cell_type": "code",
   "execution_count": 22,
   "id": "67055fa2",
   "metadata": {
    "ExecuteTime": {
     "end_time": "2023-02-06T15:38:37.166034Z",
     "start_time": "2023-02-06T15:38:37.156167Z"
    }
   },
   "outputs": [
    {
     "data": {
      "text/plain": [
       "0.7887004526662893"
      ]
     },
     "execution_count": 22,
     "metadata": {},
     "output_type": "execute_result"
    }
   ],
   "source": [
    "a3"
   ]
  },
  {
   "cell_type": "code",
   "execution_count": 23,
   "id": "def46cd8",
   "metadata": {
    "ExecuteTime": {
     "end_time": "2023-02-06T15:38:37.182225Z",
     "start_time": "2023-02-06T15:38:37.166034Z"
    }
   },
   "outputs": [],
   "source": [
    "required_probability = 1-a3"
   ]
  },
  {
   "cell_type": "code",
   "execution_count": 24,
   "id": "dc8a9ab6",
   "metadata": {
    "ExecuteTime": {
     "end_time": "2023-02-06T15:38:37.197561Z",
     "start_time": "2023-02-06T15:38:37.182225Z"
    }
   },
   "outputs": [
    {
     "data": {
      "text/plain": [
       "21.129954733371072"
      ]
     },
     "execution_count": 24,
     "metadata": {},
     "output_type": "execute_result"
    }
   ],
   "source": [
    "required_probability*100"
   ]
  },
  {
   "cell_type": "code",
   "execution_count": null,
   "id": "b1d26508",
   "metadata": {},
   "outputs": [],
   "source": []
  }
 ],
 "metadata": {
  "kernelspec": {
   "display_name": "Python 3 (ipykernel)",
   "language": "python",
   "name": "python3"
  },
  "language_info": {
   "codemirror_mode": {
    "name": "ipython",
    "version": 3
   },
   "file_extension": ".py",
   "mimetype": "text/x-python",
   "name": "python",
   "nbconvert_exporter": "python",
   "pygments_lexer": "ipython3",
   "version": "3.9.12"
  }
 },
 "nbformat": 4,
 "nbformat_minor": 5
}
